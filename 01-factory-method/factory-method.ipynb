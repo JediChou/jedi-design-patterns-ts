{
 "cells": [
  {
   "cell_type": "markdown",
   "id": "379224a4-b551-4b83-bdac-2cb07861e357",
   "metadata": {},
   "source": [
    "# TypeScript 工厂方法模式讲解和代码示例\n",
    "\n",
    "**工厂方法是**一种创建型设计模式， 解决了在不指定具体类的情况下创建产品对象的问题。\n",
    "\n",
    "工厂方法定义了一个方法， 且必须使用该方法代替通过直接调用构造函数来创建对象 （`new`操作符） \n",
    "的方式。 子类可重写该方法来更改将被创建的对象所属类。\n",
    "\n",
    "* 复杂度： ⭐\n",
    "* 流行度： ⭐⭐⭐\n",
    "\n",
    "**使用示例**： 工厂方法模式在 TypeScript 代码中得到了广泛使用。 当你需要在代码中提供高层次的灵活性时， 该模式会非常实用。\n",
    "\n",
    "**识别方法**： 工厂方法可通过构建方法来识别， 它会创建具体类的对象， 但以抽象类型或接口的形式返回这些对象。\n",
    "\n",
    "[**参考地址**](https://refactoringguru.cn/design-patterns/factory-method/typescript/example)"
   ]
  },
  {
   "cell_type": "markdown",
   "id": "6810f8ee-b26e-4519-a228-14322ea52017",
   "metadata": {},
   "source": [
    "<br/>\n",
    "    \n",
    "## 概念示例\n",
    "\n",
    "本例说明了工厂方法设计模式的结构并重点回答了下面的问题：\n",
    "\n",
    "* 它由哪些类组成？\n",
    "* 这些类扮演了哪些角色？\n",
    "* 模式中的各个元素会以何种方式相互关联？\n"
   ]
  },
  {
   "cell_type": "code",
   "execution_count": 1,
   "id": "3f92c78d-3aa8-4125-93f1-dbde1311f110",
   "metadata": {},
   "outputs": [
    {
     "data": {},
     "execution_count": 1,
     "metadata": {},
     "output_type": "execute_result"
    }
   ],
   "source": [
    "/**\n",
    " * The Creator class declares the factory method that is supposed to return an\n",
    " * object of a Product class. The Creator's subclasses usually provide the\n",
    " * implementation of this method.\n",
    " */\n",
    "abstract class Creator {\n",
    "    /**\n",
    "     * Note that the Creator may also provide some default implementation of the\n",
    "     * factory method.\n",
    "     */\n",
    "    public abstract factoryMethod(): Product;\n",
    "\n",
    "    /**\n",
    "     * Also note that, despite its name, the Creator's primary responsibility is\n",
    "     * not creating products. Usually, it contains some core business logic that\n",
    "     * relies on Product objects, returned by the factory method. Subclasses can\n",
    "     * indirectly change that business logic by overriding the factory method\n",
    "     * and returning a different type of product from it.\n",
    "     */\n",
    "    public someOperation(): string {\n",
    "        // Call the factory method to create a Product object.\n",
    "        const product = this.factoryMethod();\n",
    "        // Now, use the product.\n",
    "        return `Creator: The same creator's code has just worked with ${product.operation()}`;\n",
    "    }\n",
    "}"
   ]
  },
  {
   "cell_type": "code",
   "execution_count": 2,
   "id": "fa6f9dc6-40a0-467f-80b1-0ddbd144b146",
   "metadata": {},
   "outputs": [
    {
     "data": {},
     "execution_count": 2,
     "metadata": {},
     "output_type": "execute_result"
    }
   ],
   "source": [
    "/**\n",
    " * Concrete Creators override the factory method in order to change the\n",
    " * resulting product's type.\n",
    " */\n",
    "class ConcreteCreator1 extends Creator {\n",
    "    /**\n",
    "     * Note that the signature of the method still uses the abstract product\n",
    "     * type, even though the concrete product is actually returned from the\n",
    "     * method. This way the Creator can stay independent of concrete product\n",
    "     * classes.\n",
    "     */\n",
    "    public factoryMethod(): Product {\n",
    "        return new ConcreteProduct1();\n",
    "    }\n",
    "}\n",
    "\n",
    "class ConcreteCreator2 extends Creator {\n",
    "    public factoryMethod(): Product {\n",
    "        return new ConcreteProduct2();\n",
    "    }\n",
    "}"
   ]
  },
  {
   "cell_type": "code",
   "execution_count": 3,
   "id": "3b9aaef8-e9d1-4cde-aed8-4cb0b894a45e",
   "metadata": {},
   "outputs": [
    {
     "data": {},
     "execution_count": 3,
     "metadata": {},
     "output_type": "execute_result"
    }
   ],
   "source": [
    "/**\n",
    " * The Product interface declares the operations that all concrete products must\n",
    " * implement.\n",
    " */\n",
    "interface Product {\n",
    "    operation(): string;\n",
    "}"
   ]
  },
  {
   "cell_type": "code",
   "execution_count": 4,
   "id": "c3cf3118-f814-4bf9-8e46-8d19821c4336",
   "metadata": {},
   "outputs": [
    {
     "data": {},
     "execution_count": 4,
     "metadata": {},
     "output_type": "execute_result"
    }
   ],
   "source": [
    "/**\n",
    " * Concrete Products provide various implementations of the Product interface.\n",
    " */\n",
    "class ConcreteProduct1 implements Product {\n",
    "    public operation(): string {\n",
    "        return '{Result of the ConcreteProduct1}';\n",
    "    }\n",
    "}\n",
    "\n",
    "class ConcreteProduct2 implements Product {\n",
    "    public operation(): string {\n",
    "        return '{Result of the ConcreteProduct2}';\n",
    "    }\n",
    "}"
   ]
  },
  {
   "cell_type": "code",
   "execution_count": 5,
   "id": "f70d67c2-568d-4634-b30f-1850f45c9348",
   "metadata": {},
   "outputs": [
    {
     "data": {},
     "execution_count": 5,
     "metadata": {},
     "output_type": "execute_result"
    }
   ],
   "source": [
    "/**\n",
    " * The client code works with an instance of a concrete creator, albeit through\n",
    " * its base interface. As long as the client keeps working with the creator via\n",
    " * the base interface, you can pass it any creator's subclass.\n",
    " */\n",
    "function clientCode(creator: Creator) {\n",
    "    // ...\n",
    "    console.log('Client: I\\'m not aware of the creator\\'s class, but it still works.');\n",
    "    console.log(creator.someOperation());\n",
    "    // ...\n",
    "}"
   ]
  },
  {
   "cell_type": "code",
   "execution_count": 6,
   "id": "d7cc6d40-17c6-43b4-b550-44de529f0d36",
   "metadata": {},
   "outputs": [
    {
     "data": {},
     "execution_count": 6,
     "metadata": {},
     "output_type": "execute_result"
    },
    {
     "name": "stdout",
     "output_type": "stream",
     "text": [
      "App: Launched with the ConcreteCreator1.\n",
      "Client: I'm not aware of the creator's class, but it still works.\n",
      "Creator: The same creator's code has just worked with {Result of the ConcreteProduct1}\n",
      "\n",
      "App: Launched with the ConcreteCreator2.\n",
      "Client: I'm not aware of the creator's class, but it still works.\n",
      "Creator: The same creator's code has just worked with {Result of the ConcreteProduct2}\n"
     ]
    }
   ],
   "source": [
    "/**\n",
    " * The Application picks a creator's type depending on the configuration or\n",
    " * environment.\n",
    " */\n",
    "console.log('App: Launched with the ConcreteCreator1.');\n",
    "clientCode(new ConcreteCreator1());\n",
    "console.log('');\n",
    "\n",
    "console.log('App: Launched with the ConcreteCreator2.');\n",
    "clientCode(new ConcreteCreator2());"
   ]
  }
 ],
 "metadata": {
  "kernelspec": {
   "display_name": "Deno",
   "language": "typescript",
   "name": "deno"
  },
  "language_info": {
   "file_extension": ".ts",
   "mimetype": "text/x.typescript",
   "name": "typescript",
   "nb_converter": "script",
   "pygments_lexer": "typescript",
   "version": "5.2.2"
  }
 },
 "nbformat": 4,
 "nbformat_minor": 5
}
