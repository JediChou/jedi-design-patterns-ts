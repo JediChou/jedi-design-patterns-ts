{
 "cells": [
  {
   "cell_type": "markdown",
   "id": "fa4b92df-9206-44f3-908a-6e7465514f76",
   "metadata": {},
   "source": [
    "# TypeScript 抽象工厂模式讲解和代码示例\n",
    "\n",
    "**抽象工厂**是一种创建型设计模式， 它能创建一系列相关的对象， 而无需指定其具体类。\n",
    "\n",
    "抽象工厂定义了用于创建不同产品的接口， 但将实际的创建工作留给了具体工厂类。 每个工\n",
    "厂类型都对应一个特定的产品变体。\n",
    "\n",
    "在创建产品时， 客户端代码调用的是工厂对象的构建方法， 而不是直接调用构造函数 （`new`\n",
    "操作符）。 由于一个工厂对应一种产品变体， 因此它创建的所有产品都可相互兼容。\n",
    "\n",
    "客户端代码仅通过其抽象接口与工厂和产品进行交互。 该接口允许同一客户端代码与不同产品\n",
    "进行交互。 你只需创建一个具体工厂类并将其传递给客户端代码即可。\n",
    "\n",
    "* 复杂度：⭐⭐\n",
    "* 流行度：⭐⭐⭐\n",
    "\n",
    "**使用示例**： 抽象工厂模式在 TypeScript 代码中很常见。 许多框架和程序库会将它作为\n",
    "扩展和自定义其标准组件的一种方式。\n",
    "\n",
    "**识别方法**： 我们可以通过方法来识别该模式——其会返回一个工厂对象。 接下来， 工厂将\n",
    "被用于创建特定的子组件。\n"
   ]
  },
  {
   "cell_type": "markdown",
   "id": "af432772-6c37-4516-b350-0be62a2be31b",
   "metadata": {},
   "source": [
    "<br/>\n",
    "\n",
    "## 概念示例\n",
    "\n",
    "本例说明了抽象工厂设计模式的结构并重点回答了下面的问题：\n",
    "\n",
    "* 它由哪些类组成？\n",
    "* 这些类扮演了哪些角色？\n",
    "* 模式中的各元素会以何种方式相互关联？\n"
   ]
  },
  {
   "cell_type": "markdown",
   "id": "d35fbbbd-4c70-42ef-b68c-afb6204b1e2e",
   "metadata": {},
   "source": [
    "<br/>\n",
    "\n",
    "## 代码示例"
   ]
  },
  {
   "cell_type": "code",
   "execution_count": 1,
   "id": "3c5eaa21-524d-43cf-81f1-7b55213ce1b6",
   "metadata": {},
   "outputs": [
    {
     "data": {},
     "execution_count": 1,
     "metadata": {},
     "output_type": "execute_result"
    }
   ],
   "source": [
    "/**\n",
    " * The Abstract Factory interface declares a set of methods that return\n",
    " * different abstract products. These products are called a family and are\n",
    " * related by a high-level theme or concept. Products of one family are usually\n",
    " * able to collaborate among themselves. A family of products may have several\n",
    " * variants, but the products of one variant are incompatible with products of\n",
    " * another.\n",
    " */\n",
    "interface AbstractFactory {\n",
    "    createProductA(): AbstractProductA;\n",
    "    createProductB(): AbstractProductB;\n",
    "}\n"
   ]
  },
  {
   "cell_type": "code",
   "execution_count": 2,
   "id": "a1bb980b-c521-430f-825a-3fdf17e00fe4",
   "metadata": {},
   "outputs": [
    {
     "data": {},
     "execution_count": 2,
     "metadata": {},
     "output_type": "execute_result"
    }
   ],
   "source": [
    "/**\n",
    " * Concrete Factories produce a family of products that belong to a single\n",
    " * variant. The factory guarantees that resulting products are compatible. Note\n",
    " * that signatures of the Concrete Factory's methods return an abstract product,\n",
    " * while inside the method a concrete product is instantiated.\n",
    " */\n",
    "class ConcreteFactory1 implements AbstractFactory {\n",
    "    public createProductA(): AbstractProductA {\n",
    "        return new ConcreteProductA1();\n",
    "    }\n",
    "\n",
    "    public createProductB(): AbstractProductB {\n",
    "        return new ConcreteProductB1();\n",
    "    }\n",
    "}\n"
   ]
  },
  {
   "cell_type": "code",
   "execution_count": 3,
   "id": "aefbd0b3-6bd4-4f6c-93a1-b653764d23f7",
   "metadata": {},
   "outputs": [
    {
     "data": {},
     "execution_count": 3,
     "metadata": {},
     "output_type": "execute_result"
    }
   ],
   "source": [
    "/**\n",
    " * Each Concrete Factory has a corresponding product variant.\n",
    " */\n",
    "class ConcreteFactory2 implements AbstractFactory {\n",
    "    public createProductA(): AbstractProductA {\n",
    "        return new ConcreteProductA2();\n",
    "    }\n",
    "\n",
    "    public createProductB(): AbstractProductB {\n",
    "        return new ConcreteProductB2();\n",
    "    }\n",
    "}\n"
   ]
  },
  {
   "cell_type": "code",
   "execution_count": 4,
   "id": "fccd56bc-1584-4756-9d9c-5f08be2cd0c9",
   "metadata": {},
   "outputs": [
    {
     "data": {},
     "execution_count": 4,
     "metadata": {},
     "output_type": "execute_result"
    }
   ],
   "source": [
    "/**\n",
    " * Each distinct product of a product family should have a base interface. All\n",
    " * variants of the product must implement this interface.\n",
    " */\n",
    "interface AbstractProductA {\n",
    "    usefulFunctionA(): string;\n",
    "}\n"
   ]
  },
  {
   "cell_type": "code",
   "execution_count": 5,
   "id": "12e0b03a-9202-44c7-9baf-4baf83b0d575",
   "metadata": {},
   "outputs": [
    {
     "data": {},
     "execution_count": 5,
     "metadata": {},
     "output_type": "execute_result"
    }
   ],
   "source": [
    "/**\n",
    " * These Concrete Products are created by corresponding Concrete Factories.\n",
    " */\n",
    "class ConcreteProductA1 implements AbstractProductA {\n",
    "    public usefulFunctionA(): string {\n",
    "        return 'The result of the product A1.';\n",
    "    }\n",
    "}\n",
    "\n",
    "class ConcreteProductA2 implements AbstractProductA {\n",
    "    public usefulFunctionA(): string {\n",
    "        return 'The result of the product A2.';\n",
    "    }\n",
    "}\n"
   ]
  },
  {
   "cell_type": "code",
   "execution_count": 6,
   "id": "33d5de94-5880-4944-9812-09c646b370bf",
   "metadata": {},
   "outputs": [
    {
     "data": {},
     "execution_count": 6,
     "metadata": {},
     "output_type": "execute_result"
    }
   ],
   "source": [
    "/**\n",
    " * Here's the the base interface of another product. All products can interact\n",
    " * with each other, but proper interaction is possible only between products of\n",
    " * the same concrete variant.\n",
    " */\n",
    "interface AbstractProductB {\n",
    "    /**\n",
    "     * Product B is able to do its own thing...\n",
    "     */\n",
    "    usefulFunctionB(): string;\n",
    "\n",
    "    /**\n",
    "     * ...but it also can collaborate with the ProductA.\n",
    "     *\n",
    "     * The Abstract Factory makes sure that all products it creates are of the\n",
    "     * same variant and thus, compatible.\n",
    "     */\n",
    "    anotherUsefulFunctionB(collaborator: AbstractProductA): string;\n",
    "}\n"
   ]
  },
  {
   "cell_type": "code",
   "execution_count": 7,
   "id": "7c8a5e89-5c91-42c3-b19f-3e6b3988c362",
   "metadata": {},
   "outputs": [
    {
     "data": {},
     "execution_count": 7,
     "metadata": {},
     "output_type": "execute_result"
    }
   ],
   "source": [
    "/**\n",
    " * These Concrete Products are created by corresponding Concrete Factories.\n",
    " */\n",
    "class ConcreteProductB1 implements AbstractProductB {\n",
    "\n",
    "    public usefulFunctionB(): string {\n",
    "        return 'The result of the product B1.';\n",
    "    }\n",
    "\n",
    "    /**\n",
    "     * The variant, Product B1, is only able to work correctly with the variant,\n",
    "     * Product A1. Nevertheless, it accepts any instance of AbstractProductA as\n",
    "     * an argument.\n",
    "     */\n",
    "    public anotherUsefulFunctionB(collaborator: AbstractProductA): string {\n",
    "        const result = collaborator.usefulFunctionA();\n",
    "        return `The result of the B1 collaborating with the (${result})`;\n",
    "    }\n",
    "}\n",
    "\n",
    "class ConcreteProductB2 implements AbstractProductB {\n",
    "\n",
    "    public usefulFunctionB(): string {\n",
    "        return 'The result of the product B2.';\n",
    "    }\n",
    "\n",
    "    /**\n",
    "     * The variant, Product B2, is only able to work correctly with the variant,\n",
    "     * Product A2. Nevertheless, it accepts any instance of AbstractProductA as\n",
    "     * an argument.\n",
    "     */\n",
    "    public anotherUsefulFunctionB(collaborator: AbstractProductA): string {\n",
    "        const result = collaborator.usefulFunctionA();\n",
    "        return `The result of the B2 collaborating with the (${result})`;\n",
    "    }\n",
    "}\n"
   ]
  },
  {
   "cell_type": "code",
   "execution_count": 8,
   "id": "9e9256f3-0b21-4bbe-a7f0-784cf6cf987a",
   "metadata": {},
   "outputs": [
    {
     "data": {},
     "execution_count": 8,
     "metadata": {},
     "output_type": "execute_result"
    },
    {
     "name": "stdout",
     "output_type": "stream",
     "text": [
      "Client: Testing client code with the first factory type...\n",
      "The result of the product B1.\n",
      "The result of the B1 collaborating with the (The result of the product A1.)\n",
      "\n",
      "Client: Testing the same client code with the second factory type...\n",
      "The result of the product B2.\n",
      "The result of the B2 collaborating with the (The result of the product A2.)\n"
     ]
    }
   ],
   "source": [
    "/**\n",
    " * The client code works with factories and products only through abstract\n",
    " * types: AbstractFactory and AbstractProduct. This lets you pass any factory or\n",
    " * product subclass to the client code without breaking it.\n",
    " */\n",
    "function clientCode(factory: AbstractFactory) {\n",
    "    const productA = factory.createProductA();\n",
    "    const productB = factory.createProductB();\n",
    "\n",
    "    console.log(productB.usefulFunctionB());\n",
    "    console.log(productB.anotherUsefulFunctionB(productA));\n",
    "}\n",
    "\n",
    "/**\n",
    " * The client code can work with any concrete factory class.\n",
    " */\n",
    "console.log('Client: Testing client code with the first factory type...');\n",
    "clientCode(new ConcreteFactory1());\n",
    "\n",
    "console.log('');\n",
    "\n",
    "console.log('Client: Testing the same client code with the second factory type...');\n",
    "clientCode(new ConcreteFactory2());\n"
   ]
  }
 ],
 "metadata": {
  "kernelspec": {
   "display_name": "Deno",
   "language": "typescript",
   "name": "deno"
  },
  "language_info": {
   "file_extension": ".ts",
   "mimetype": "text/x.typescript",
   "name": "typescript",
   "nb_converter": "script",
   "pygments_lexer": "typescript",
   "version": "5.2.2"
  }
 },
 "nbformat": 4,
 "nbformat_minor": 5
}
